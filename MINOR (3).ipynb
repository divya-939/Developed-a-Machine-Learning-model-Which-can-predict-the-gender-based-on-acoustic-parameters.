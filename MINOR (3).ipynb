{
  "cells": [
    {
      "cell_type": "code",
      "execution_count": null,
      "metadata": {
        "_cell_guid": "b1076dfc-b9ad-4769-8c92-a6c4dae69d19",
        "_uuid": "8f2839f25d086af736a60e9eeb907d3b93b6e0e5",
        "execution": {
          "iopub.execute_input": "2023-02-15T13:40:50.045991Z",
          "iopub.status.busy": "2023-02-15T13:40:50.045517Z",
          "iopub.status.idle": "2023-02-15T13:40:50.091868Z",
          "shell.execute_reply": "2023-02-15T13:40:50.090995Z",
          "shell.execute_reply.started": "2023-02-15T13:40:50.045890Z"
        },
        "id": "Yp5_WR_3T5Pw",
        "trusted": true
      },
      "outputs": [],
      "source": [
        "# This Python 3 environment comes with many helpful analytics libraries installed\n",
        "# It is defined by the kaggle/python Docker image: https://github.com/kaggle/docker-python\n",
        "# For example, here's several helpful packages to load\n",
        "\n",
        "import numpy as np # linear algebra\n",
        "import pandas as pd # data processing, CSV file I/O (e.g. pd.read_csv)\n",
        "\n",
        "# Input data files are available in the read-only \"../input/\" directory\n",
        "# For example, running this (by clicking run or pressing Shift+Enter) will list all files under the input directory\n",
        "\n",
        "import os\n",
        "for dirname, _, filenames in os.walk('/kaggle/input'):\n",
        "    for filename in filenames:\n",
        "        print(os.path.join(dirname, filename))\n",
        "\n",
        "# You can write up to 20GB to the current directory (/kaggle/working/) that gets preserved as output when you create a version using \"Save & Run All\" \n",
        "# You can also write temporary files to /kaggle/temp/, but they won't be saved outside of the current session"
      ]
    },
    {
      "cell_type": "code",
      "execution_count": null,
      "metadata": {
        "id": "2ugdf8EdT5P1",
        "trusted": true
      },
      "outputs": [],
      "source": [
        "import numpy as np\n",
        "import pandas as pd\n",
        "import matplotlib.pyplot as plt\n",
        "import seaborn as sns\n"
      ]
    },
    {
      "cell_type": "code",
      "execution_count": null,
      "metadata": {
        "colab": {
          "base_uri": "https://localhost:8080/",
          "height": 300
        },
        "id": "NyYed5bST5P2",
        "outputId": "ae74c827-a012-4a8a-e692-501154b1c97c",
        "trusted": true
      },
      "outputs": [],
      "source": [
        "df = pd.read_csv('/voice.csv')\n",
        "df.head()\n"
      ]
    },
    {
      "cell_type": "code",
      "execution_count": null,
      "metadata": {
        "colab": {
          "base_uri": "https://localhost:8080/"
        },
        "id": "MjPG9TDsT5P3",
        "outputId": "e7982be5-8bcf-40d1-f839-4bfa997befab",
        "trusted": true
      },
      "outputs": [],
      "source": [
        "df.shape"
      ]
    },
    {
      "cell_type": "code",
      "execution_count": null,
      "metadata": {
        "colab": {
          "base_uri": "https://localhost:8080/"
        },
        "id": "0I0XwaD4T5P3",
        "outputId": "9e90ddda-0afe-478c-bd10-e7d838b34821",
        "trusted": true
      },
      "outputs": [],
      "source": [
        "df.isna().sum()"
      ]
    },
    {
      "cell_type": "markdown",
      "metadata": {
        "id": "rcP0R4MDT5P4"
      },
      "source": [
        "## Pie chart\n"
      ]
    },
    {
      "cell_type": "code",
      "execution_count": null,
      "metadata": {
        "colab": {
          "base_uri": "https://localhost:8080/"
        },
        "id": "8lBTJjp-T5P6",
        "outputId": "a0eadc49-f0c6-4300-be7e-5aed6899b55d",
        "trusted": true
      },
      "outputs": [],
      "source": [
        "df['label'].value_counts()"
      ]
    },
    {
      "cell_type": "code",
      "execution_count": null,
      "metadata": {
        "colab": {
          "base_uri": "https://localhost:8080/",
          "height": 366
        },
        "id": "TpXwdvM1T5P6",
        "outputId": "5aee99c7-1408-47c0-a1b2-bb7760864924",
        "trusted": true
      },
      "outputs": [],
      "source": [
        "val= [1584,1584]\n",
        "label = ['male','female']\n",
        "plt.figure(figsize=(6,8))\n",
        "plt.pie(val,labels=label)\n",
        "plt.legend()\n",
        "plt.show()\n"
      ]
    },
    {
      "cell_type": "markdown",
      "metadata": {
        "id": "NMoRrRz3T5P7"
      },
      "source": [
        "## Exploratory Data Analysis"
      ]
    },
    {
      "cell_type": "code",
      "execution_count": null,
      "metadata": {
        "colab": {
          "base_uri": "https://localhost:8080/",
          "height": 1000
        },
        "id": "ehoCvcW2T5P7",
        "outputId": "fccfcfd5-8d60-4ca1-ed00-faab6d8aaedf",
        "trusted": true
      },
      "outputs": [],
      "source": [
        "corr = df.corr()\n",
        "sns.set(font_scale=1.5)\n",
        "plt.figure(figsize=(20,20))\n",
        "sns.heatmap(corr,annot = True,cmap='coolwarm')\n",
        "plt.show()"
      ]
    },
    {
      "cell_type": "markdown",
      "metadata": {
        "id": "FXCH74s6T5P8"
      },
      "source": [
        "## We will do EDA on similar columns with correlation higher than 0.8 and remove the columns which will not fetch us important patterns."
      ]
    },
    {
      "cell_type": "code",
      "execution_count": null,
      "metadata": {
        "colab": {
          "base_uri": "https://localhost:8080/",
          "height": 946
        },
        "id": "IY497l6uT5P8",
        "outputId": "9d929825-cec6-4670-ae23-8afc8d4ad901",
        "trusted": true
      },
      "outputs": [],
      "source": [
        "corr = df.corr()\n",
        "corr = corr[corr>0.85]\n",
        "plt.figure(figsize=(15,15))\n",
        "sns.heatmap(corr,annot = True,cmap='coolwarm')\n",
        "plt.show()\n"
      ]
    },
    {
      "cell_type": "code",
      "execution_count": null,
      "metadata": {
        "id": "nxyHQYp3T5P9",
        "trusted": true
      },
      "outputs": [],
      "source": [
        "df = df.drop(['meanfreq','centroid',],axis=1) \n",
        "#we removed meanfreq and centroid as it had the maximum correlated columns"
      ]
    },
    {
      "cell_type": "code",
      "execution_count": null,
      "metadata": {
        "colab": {
          "base_uri": "https://localhost:8080/",
          "height": 579
        },
        "id": "zQ_KJ2e4T5P9",
        "outputId": "3ec6f985-0115-4eae-c491-998a11aca5f8",
        "trusted": true
      },
      "outputs": [],
      "source": [
        "sns.boxplot(x=df.maxdom,y=df.label)\n",
        "plt.show()\n",
        "sns.boxplot(x=df.dfrange,y=df.label)\n",
        "plt.show()\n"
      ]
    },
    {
      "cell_type": "code",
      "execution_count": null,
      "metadata": {
        "id": "scWclxtvT5P9",
        "trusted": true
      },
      "outputs": [],
      "source": [
        "df = df.drop(['dfrange','maxdom'],axis=1)"
      ]
    },
    {
      "cell_type": "code",
      "execution_count": null,
      "metadata": {
        "colab": {
          "base_uri": "https://localhost:8080/",
          "height": 579
        },
        "id": "oJcs72ofT5P-",
        "outputId": "28629153-5c29-4170-ebd5-2c99a3a612c9",
        "trusted": true
      },
      "outputs": [],
      "source": [
        "sns.boxplot(x=df['skew'],y=df.label)\n",
        "plt.show()\n",
        "sns.boxplot(x=df['kurt'],y=df.label)\n",
        "plt.show()"
      ]
    },
    {
      "cell_type": "code",
      "execution_count": null,
      "metadata": {
        "id": "hpyuefvlT5P-",
        "trusted": true
      },
      "outputs": [],
      "source": [
        "df = df.drop(['kurt','skew'],axis=1)"
      ]
    },
    {
      "cell_type": "markdown",
      "metadata": {
        "id": "L_P4eoaIT5P-"
      },
      "source": [
        "### We removed both kurt and skew as it had too many outliers. It is bad for the training.\n"
      ]
    },
    {
      "cell_type": "code",
      "execution_count": null,
      "metadata": {
        "colab": {
          "base_uri": "https://localhost:8080/",
          "height": 579
        },
        "id": "dGWOqZO8T5P_",
        "outputId": "52db5af9-7c86-447b-9b8e-edb4831259f1",
        "trusted": true
      },
      "outputs": [],
      "source": [
        "sns.boxplot(x=df['sd'],y=df.label)\n",
        "plt.show()\n",
        "sns.boxplot(x=df['IQR'],y=df.label)\n",
        "plt.show()"
      ]
    },
    {
      "cell_type": "code",
      "execution_count": null,
      "metadata": {
        "id": "0aUopjf1T5P_",
        "trusted": true
      },
      "outputs": [],
      "source": [
        "df = df.drop(['IQR'],axis=1)"
      ]
    },
    {
      "cell_type": "code",
      "execution_count": null,
      "metadata": {
        "colab": {
          "base_uri": "https://localhost:8080/",
          "height": 579
        },
        "id": "thTO78jFT5P_",
        "outputId": "d505cb6f-5649-48a7-c311-bf5d0c46f82a",
        "trusted": true
      },
      "outputs": [],
      "source": [
        "sns.boxplot(x=df['sfm'],y=df.label)\n",
        "plt.show()\n",
        "sns.boxplot(x=df['sp.ent'],y=df.label)\n",
        "plt.show()"
      ]
    },
    {
      "cell_type": "code",
      "execution_count": null,
      "metadata": {
        "id": "0rNNhJaTT5QA",
        "trusted": true
      },
      "outputs": [],
      "source": [
        "df = df.drop('sp.ent',axis=1)\n",
        "#We will remove sp.ent as it has more outliers"
      ]
    },
    {
      "cell_type": "code",
      "execution_count": null,
      "metadata": {
        "colab": {
          "base_uri": "https://localhost:8080/",
          "height": 1000
        },
        "id": "L-_VNvaKT5QA",
        "outputId": "39e3f8d3-eeee-4861-ff94-1079326a48dc",
        "trusted": true
      },
      "outputs": [],
      "source": [
        "sns.pairplot(df,kind = 'scatterplot',hue='label')\n",
        "plt.show()"
      ]
    },
    {
      "cell_type": "code",
      "execution_count": null,
      "metadata": {
        "id": "fkGkF1pRT5QA",
        "trusted": true
      },
      "outputs": [],
      "source": [
        "df = df.drop(['maxfun','modindx','minfun'],axis=1) \n",
        "#these columns have too many outliers"
      ]
    },
    {
      "cell_type": "code",
      "execution_count": null,
      "metadata": {
        "colab": {
          "base_uri": "https://localhost:8080/",
          "height": 403
        },
        "id": "0KTKnzF_T5QA",
        "outputId": "5e5de902-b6c9-41d2-d036-b1155ce60ad8",
        "trusted": true
      },
      "outputs": [],
      "source": [
        "corr = df.corr()\n",
        "corr = corr[corr>0.85]\n",
        "plt.figure(figsize=(5,5))\n",
        "sns.heatmap(corr,annot = True,cmap='coolwarm')\n",
        "plt.show()\n"
      ]
    },
    {
      "cell_type": "markdown",
      "metadata": {
        "id": "qfaVZDtUT5QB"
      },
      "source": [
        "## Train-Test Split¶"
      ]
    },
    {
      "cell_type": "code",
      "execution_count": null,
      "metadata": {
        "id": "GIhSEYB3T5QB",
        "trusted": true
      },
      "outputs": [],
      "source": [
        "from sklearn.model_selection import train_test_split"
      ]
    },
    {
      "cell_type": "markdown",
      "metadata": {
        "id": "VJw-6LFxT5QB"
      },
      "source": []
    },
    {
      "cell_type": "code",
      "execution_count": null,
      "metadata": {
        "id": "tFa7ASq-T5QB",
        "trusted": true
      },
      "outputs": [],
      "source": [
        "X = df.iloc[:,:-1]\n",
        "y = df.label"
      ]
    },
    {
      "cell_type": "code",
      "execution_count": null,
      "metadata": {
        "id": "CCe8FoS6T5QC",
        "trusted": true
      },
      "outputs": [],
      "source": [
        "X_train,x_test,y_train,y_test = train_test_split(X,y,test_size=0.2,random_state = 1)"
      ]
    },
    {
      "cell_type": "markdown",
      "metadata": {
        "id": "EMDEQowgT5QC"
      },
      "source": [
        "## Metric Functions"
      ]
    },
    {
      "cell_type": "code",
      "execution_count": null,
      "metadata": {
        "id": "ofyGKJp-T5QC",
        "trusted": true
      },
      "outputs": [],
      "source": [
        "from sklearn.metrics import classification_report,confusion_matrix"
      ]
    },
    {
      "cell_type": "code",
      "execution_count": null,
      "metadata": {
        "id": "y8_ywQJ1T5QC",
        "trusted": true
      },
      "outputs": [],
      "source": [
        "def eval(y_pred,ytest):\n",
        "    print(\"Confusion matrix:\\n\")\n",
        "    cm = confusion_matrix(y_pred,ytest)\n",
        "    sns.heatmap(cm,annot = True,xticklabels=[\"Female\",\"Male\"],yticklabels=[\"Female\",\"Male\"])\n",
        "    plt.show()\n",
        "    print(\"Classification Report\\n\",classification_report(y_pred,ytest))"
      ]
    },
    {
      "cell_type": "code",
      "execution_count": null,
      "metadata": {
        "id": "zMM1iVTXT5QD",
        "trusted": true
      },
      "outputs": [],
      "source": [
        "def score(model):\n",
        "    print(\"Training score: \",model.score(X_train,y_train))\n",
        "    print(\"Test score: \",model.score(x_test,y_test))"
      ]
    },
    {
      "cell_type": "markdown",
      "metadata": {
        "id": "Gq2p1XW7T5QD"
      },
      "source": [
        "## 1) DecisionTreeClassifier"
      ]
    },
    {
      "cell_type": "code",
      "execution_count": null,
      "metadata": {
        "id": "so1zDBkRT5QD",
        "trusted": true
      },
      "outputs": [],
      "source": [
        "from sklearn.tree import DecisionTreeClassifier"
      ]
    },
    {
      "cell_type": "code",
      "execution_count": null,
      "metadata": {
        "id": "8hu02UGfT5QD",
        "trusted": true
      },
      "outputs": [],
      "source": [
        "DTmodel = DecisionTreeClassifier(min_samples_split = 5,max_depth = 10,random_state = 0)"
      ]
    },
    {
      "cell_type": "code",
      "execution_count": null,
      "metadata": {
        "colab": {
          "base_uri": "https://localhost:8080/"
        },
        "id": "8IeZdE6vT5QE",
        "outputId": "04a122cb-2e6e-4438-f2ee-696b3630610d",
        "trusted": true
      },
      "outputs": [],
      "source": [
        "DTmodel.fit(X_train,y_train)"
      ]
    },
    {
      "cell_type": "code",
      "execution_count": null,
      "metadata": {
        "colab": {
          "base_uri": "https://localhost:8080/"
        },
        "id": "zjGz8r3UT5QE",
        "outputId": "eb35963f-465a-4282-97bf-faa70d8ecde3",
        "trusted": true
      },
      "outputs": [],
      "source": [
        "ypred1 = DTmodel.predict(x_test)\n",
        "ypred1[:5]"
      ]
    },
    {
      "cell_type": "code",
      "execution_count": null,
      "metadata": {
        "colab": {
          "base_uri": "https://localhost:8080/"
        },
        "id": "-n0DZx-eT5QE",
        "outputId": "998c5286-1f49-45b6-fc36-38df99ef21f5",
        "trusted": true
      },
      "outputs": [],
      "source": [
        "score(DTmodel)"
      ]
    },
    {
      "cell_type": "code",
      "execution_count": null,
      "metadata": {
        "colab": {
          "base_uri": "https://localhost:8080/",
          "height": 484
        },
        "id": "s53mchsIT5QE",
        "outputId": "f728c9ec-cffd-4e53-b48c-bec479b9cb5b",
        "trusted": true
      },
      "outputs": [],
      "source": [
        "eval(ypred1,y_test)"
      ]
    },
    {
      "cell_type": "markdown",
      "metadata": {
        "id": "P02TmSOBT5QE"
      },
      "source": [
        "### Conclusion: Slightly overfit model."
      ]
    },
    {
      "cell_type": "markdown",
      "metadata": {
        "id": "UhQlDNPQT5QE"
      },
      "source": [
        "## 2) LogisticRegression¶"
      ]
    },
    {
      "cell_type": "code",
      "execution_count": null,
      "metadata": {
        "id": "M3pwCafiT5QF",
        "trusted": true
      },
      "outputs": [],
      "source": [
        "from sklearn.linear_model import LogisticRegression"
      ]
    },
    {
      "cell_type": "code",
      "execution_count": null,
      "metadata": {
        "id": "5C2EEYeJT5QF",
        "trusted": true
      },
      "outputs": [],
      "source": [
        "LRmodel = LogisticRegression(n_jobs=3,max_iter=1000,class_weight=0.001,random_state=0)"
      ]
    },
    {
      "cell_type": "code",
      "execution_count": null,
      "metadata": {
        "colab": {
          "base_uri": "https://localhost:8080/"
        },
        "id": "uqFm72xuT5QF",
        "outputId": "d0130708-fe1f-436b-aaba-93790da90e7c",
        "trusted": true
      },
      "outputs": [],
      "source": [
        "LRmodel.fit(X_train,y_train)"
      ]
    },
    {
      "cell_type": "code",
      "execution_count": null,
      "metadata": {
        "id": "N_rSoN7sT5QF",
        "trusted": true
      },
      "outputs": [],
      "source": [
        "ypred2 = LRmodel.predict(x_test)"
      ]
    },
    {
      "cell_type": "code",
      "execution_count": null,
      "metadata": {
        "colab": {
          "base_uri": "https://localhost:8080/"
        },
        "id": "Y9AIdf8ET5QF",
        "outputId": "c30d7bcd-998d-42c4-ca95-5e331c709b16",
        "trusted": true
      },
      "outputs": [],
      "source": [
        "score(LRmodel)"
      ]
    },
    {
      "cell_type": "code",
      "execution_count": null,
      "metadata": {
        "colab": {
          "base_uri": "https://localhost:8080/",
          "height": 486
        },
        "id": "YQAn_yTxT5QG",
        "outputId": "8b72c58d-de59-4a51-ccfa-9b333fb3b716",
        "trusted": true
      },
      "outputs": [],
      "source": [
        "eval(ypred2,y_test)"
      ]
    },
    {
      "cell_type": "markdown",
      "metadata": {
        "id": "gPU6n_4gT5QG"
      },
      "source": [
        "### Conclusion: Slightly inaccurate and underfit model with overall less training and test score."
      ]
    },
    {
      "cell_type": "markdown",
      "metadata": {
        "id": "CwdEj2-TT5QG"
      },
      "source": [
        "# 3) Support Vector Machine"
      ]
    },
    {
      "cell_type": "code",
      "execution_count": null,
      "metadata": {
        "id": "EZni79JUT5QG",
        "trusted": true
      },
      "outputs": [],
      "source": [
        "from sklearn.svm import SVC"
      ]
    },
    {
      "cell_type": "code",
      "execution_count": null,
      "metadata": {
        "id": "RJq_pgwkT5QG",
        "trusted": true
      },
      "outputs": [],
      "source": [
        "SVMmodel = SVC(kernel = 'rbf', C=2.0,random_state=0,degree = 3)"
      ]
    },
    {
      "cell_type": "code",
      "execution_count": null,
      "metadata": {
        "colab": {
          "base_uri": "https://localhost:8080/"
        },
        "id": "XQay7c-yT5QG",
        "outputId": "3fd7da6a-953a-4d93-8300-9f3f1966dd50",
        "trusted": true
      },
      "outputs": [],
      "source": [
        "SVMmodel.fit(X_train,y_train)"
      ]
    },
    {
      "cell_type": "code",
      "execution_count": null,
      "metadata": {
        "id": "1X1R3Ws6T5QH",
        "trusted": true
      },
      "outputs": [],
      "source": [
        "ypred3 = SVMmodel.predict(x_test)"
      ]
    },
    {
      "cell_type": "code",
      "execution_count": null,
      "metadata": {
        "colab": {
          "base_uri": "https://localhost:8080/"
        },
        "id": "8wcbgKFjT5QH",
        "outputId": "ffabf6cc-f106-4415-99a3-a27d53531de2",
        "trusted": true
      },
      "outputs": [],
      "source": [
        "score(SVMmodel)"
      ]
    },
    {
      "cell_type": "code",
      "execution_count": null,
      "metadata": {
        "colab": {
          "base_uri": "https://localhost:8080/",
          "height": 484
        },
        "id": "Kg5NajZeT5QH",
        "outputId": "a34f7f31-cbbb-4077-e32a-c2ca61d845ad",
        "trusted": true
      },
      "outputs": [],
      "source": [
        "eval(ypred3,y_test)"
      ]
    },
    {
      "cell_type": "markdown",
      "metadata": {
        "id": "F00cDSthT5QH"
      },
      "source": [
        "### Conclusion: Properly fit as both training and testing scores are approximately same."
      ]
    },
    {
      "cell_type": "markdown",
      "metadata": {
        "id": "pfysCp4YT5QH"
      },
      "source": [
        "# 4) K-Nearest Neighbors"
      ]
    },
    {
      "cell_type": "code",
      "execution_count": null,
      "metadata": {
        "id": "ZNMqYFUOT5QH",
        "trusted": true
      },
      "outputs": [],
      "source": [
        "from sklearn.neighbors import KNeighborsClassifier"
      ]
    },
    {
      "cell_type": "code",
      "execution_count": null,
      "metadata": {
        "id": "XcI8B2beT5QI",
        "trusted": true
      },
      "outputs": [],
      "source": [
        "Kmodel = KNeighborsClassifier(n_neighbors = 4,metric ='minkowski',p=1,n_jobs=5,algorithm='ball_tree')"
      ]
    },
    {
      "cell_type": "code",
      "execution_count": null,
      "metadata": {
        "colab": {
          "base_uri": "https://localhost:8080/"
        },
        "id": "oUmu9DoxT5QI",
        "outputId": "b7817c70-45db-4981-f8a5-7528dd24870a",
        "trusted": true
      },
      "outputs": [],
      "source": [
        "Kmodel.fit(X_train,y_train)"
      ]
    },
    {
      "cell_type": "code",
      "execution_count": null,
      "metadata": {
        "id": "jZD5h4bWT5QI",
        "trusted": true
      },
      "outputs": [],
      "source": [
        "ypred4 = Kmodel.predict(x_test)"
      ]
    },
    {
      "cell_type": "code",
      "execution_count": null,
      "metadata": {
        "colab": {
          "base_uri": "https://localhost:8080/"
        },
        "id": "nxWrmzs_T5QI",
        "outputId": "805b36a2-c402-4a8c-91cf-6527262d87dc",
        "trusted": true
      },
      "outputs": [],
      "source": [
        "score(Kmodel)"
      ]
    },
    {
      "cell_type": "code",
      "execution_count": null,
      "metadata": {
        "colab": {
          "base_uri": "https://localhost:8080/",
          "height": 486
        },
        "id": "2UG3iKYgT5QI",
        "outputId": "08812178-db9b-446c-d6a2-094211edae98",
        "trusted": true
      },
      "outputs": [],
      "source": [
        "eval(ypred4,y_test)"
      ]
    },
    {
      "cell_type": "markdown",
      "metadata": {
        "id": "mtDpWsXeT5QJ"
      },
      "source": [
        "### Conclusion : Good training and testing accuracy"
      ]
    },
    {
      "cell_type": "markdown",
      "metadata": {
        "id": "bt-6YvC-T5QJ"
      },
      "source": [
        "# 5) Random Forest"
      ]
    },
    {
      "cell_type": "code",
      "execution_count": null,
      "metadata": {
        "id": "oIvRyqJcT5QJ",
        "trusted": true
      },
      "outputs": [],
      "source": [
        "from sklearn.ensemble import RandomForestClassifier"
      ]
    },
    {
      "cell_type": "code",
      "execution_count": null,
      "metadata": {
        "id": "C-10g2I-T5QJ",
        "trusted": true
      },
      "outputs": [],
      "source": [
        "RFmodel = RandomForestClassifier(n_estimators = 1000,max_depth = 11,n_jobs=5,criterion='gini',warm_start=True,min_samples_split=4,oob_score=True)"
      ]
    },
    {
      "cell_type": "code",
      "execution_count": null,
      "metadata": {
        "colab": {
          "base_uri": "https://localhost:8080/"
        },
        "id": "xvRi7BrPT5QJ",
        "outputId": "6adcfac0-d9d1-4d98-96fa-88205e4e1fb4",
        "trusted": true
      },
      "outputs": [],
      "source": [
        "RFmodel.fit(X_train,y_train)"
      ]
    },
    {
      "cell_type": "code",
      "execution_count": null,
      "metadata": {
        "id": "_YA8MqsgT5QJ",
        "trusted": true
      },
      "outputs": [],
      "source": [
        "ypred5 = RFmodel.predict(x_test)"
      ]
    },
    {
      "cell_type": "code",
      "execution_count": null,
      "metadata": {
        "colab": {
          "base_uri": "https://localhost:8080/"
        },
        "id": "97-TdGXHT5QJ",
        "outputId": "53ad57f7-61c8-4c66-c333-24644dd0e43c",
        "trusted": true
      },
      "outputs": [],
      "source": [
        "score(RFmodel)"
      ]
    },
    {
      "cell_type": "code",
      "execution_count": null,
      "metadata": {
        "colab": {
          "base_uri": "https://localhost:8080/",
          "height": 484
        },
        "id": "V0YcHTKDT5QK",
        "outputId": "76a4c6d8-ec0f-429c-8cf7-258a4fe8114b",
        "trusted": true
      },
      "outputs": [],
      "source": [
        "eval(ypred5,y_test)"
      ]
    },
    {
      "cell_type": "markdown",
      "metadata": {
        "id": "EsoRmQ_WT5QK"
      },
      "source": [
        "### Conclusion\n",
        "### Random Forest classifier was proved to be the best classifier with only 13-15 missclassification in testing set."
      ]
    },
    {
      "cell_type": "markdown",
      "metadata": {
        "id": "P3MDuvrMT5QK"
      },
      "source": []
    }
  ],
  "metadata": {
    "colab": {
      "provenance": []
    },
    "kernelspec": {
      "display_name": "Python 3",
      "language": "python",
      "name": "python3"
    },
    "language_info": {
      "codemirror_mode": {
        "name": "ipython",
        "version": 3
      },
      "file_extension": ".py",
      "mimetype": "text/x-python",
      "name": "python",
      "nbconvert_exporter": "python",
      "pygments_lexer": "ipython3",
      "version": "3.10.9"
    },
    "vscode": {
      "interpreter": {
        "hash": "3b7e9cb8e453d6cda0fe8c8dd13f891a1f09162f0e7c66ffeae7751a7aecf00d"
      }
    }
  },
  "nbformat": 4,
  "nbformat_minor": 0
}
